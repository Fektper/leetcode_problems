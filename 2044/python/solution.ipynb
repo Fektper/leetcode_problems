{
 "cells": [
  {
   "cell_type": "code",
   "execution_count": 1,
   "id": "41efbf0f",
   "metadata": {},
   "outputs": [],
   "source": [
    "from typing import List"
   ]
  },
  {
   "cell_type": "code",
   "execution_count": null,
   "id": "13ed3bd6",
   "metadata": {},
   "outputs": [],
   "source": []
  },
  {
   "cell_type": "code",
   "execution_count": 70,
   "id": "3ed63225",
   "metadata": {},
   "outputs": [],
   "source": [
    "\n",
    "class Solution:\n",
    "    def countMaxOrSubsets(self, nums: List[int]) -> int:\n",
    "        \n",
    "        max_possible_value = 0\n",
    "        for x in nums:\n",
    "            max_possible_value |= x\n",
    "        \n",
    "        candidate_nums = [x for x in nums if x & max_possible_value]\n",
    "        set_num = 0\n",
    "        for i in range(1, 1<<len(candidate_nums)):\n",
    "            num_indices = []\n",
    "            for num_index in range(len(candidate_nums)):\n",
    "                if i & (1<<num_index):\n",
    "                    num_indices.append(num_index)\n",
    "\n",
    "            total_or_value = 0\n",
    "            for idx in num_indices:\n",
    "                total_or_value |= candidate_nums[idx]\n",
    "\n",
    "            if total_or_value == max_possible_value:\n",
    "                set_num += 1\n",
    "        return set_num"
   ]
  },
  {
   "cell_type": "code",
   "execution_count": 71,
   "id": "f99ea1c3",
   "metadata": {},
   "outputs": [
    {
     "data": {
      "text/plain": [
       "487121"
      ]
     },
     "execution_count": 71,
     "metadata": {},
     "output_type": "execute_result"
    }
   ],
   "source": [
    "Solution().countMaxOrSubsets([1, 2, 3, 4, 5, 6, 7, 8, 9, 10, 11, 12, 13, 14, 15, 16, 17, 18, 19])"
   ]
  },
  {
   "cell_type": "code",
   "execution_count": 72,
   "id": "e381b36d",
   "metadata": {},
   "outputs": [],
   "source": [
    "from time import time\n",
    "class TestCase:\n",
    "    def __init__(self, inpt, out):\n",
    "        self.inpt = inpt\n",
    "        self.out = out\n",
    "        self.time_elapsed = None\n",
    "\n",
    "    def run(self):\n",
    "        start_time = time()\n",
    "        sol_out = Solution().countMaxOrSubsets(self.inpt)\n",
    "        self.time_elapsed = time() - start_time\n",
    "        return sol_out == self.out"
   ]
  },
  {
   "cell_type": "code",
   "execution_count": 73,
   "id": "e1db99fa",
   "metadata": {},
   "outputs": [
    {
     "name": "stdout",
     "output_type": "stream",
     "text": [
      "Case 1 passed in 0.0000 secs\n",
      "Case 2 passed in 0.0000 secs\n",
      "Case 3 passed in 0.0000 secs\n",
      "Case 4 passed in 0.1804 secs\n",
      "Case 5 passed in 1.4751 secs\n"
     ]
    }
   ],
   "source": [
    "from time import time\n",
    "testcases = [TestCase([3, 1], 2), TestCase([2, 2, 2], 7), TestCase([3, 2, 1, 5], 6), \n",
    "             TestCase([1, 2, 3, 4, 5, 6, 7, 8, 9, 10, 11, 12, 13, 14, 15, 16], 32297),\n",
    "             TestCase([1, 2, 3, 4, 5, 6, 7, 8, 9, 10, 11, 12, 13, 14, 15, 16, 17, 18, 19], 487121)]\n",
    "\n",
    "for i, case in enumerate(testcases):\n",
    "    if case.run():\n",
    "        print(f\"Case {i+1} passed in {case.time_elapsed:.4f} secs\")\n",
    "    else:\n",
    "        print(f\"Case {i+1} failed\")"
   ]
  },
  {
   "cell_type": "code",
   "execution_count": 34,
   "id": "75a1afe5",
   "metadata": {},
   "outputs": [
    {
     "name": "stdout",
     "output_type": "stream",
     "text": [
      "Match\n"
     ]
    }
   ],
   "source": [
    "x = -5\n",
    "max_possible_value = -3\n",
    "if x & max_possible_value:\n",
    "    print(\"Match\")"
   ]
  },
  {
   "cell_type": "code",
   "execution_count": 33,
   "id": "0471a044",
   "metadata": {},
   "outputs": [
    {
     "data": {
      "text/plain": [
       "-7"
      ]
     },
     "execution_count": 33,
     "metadata": {},
     "output_type": "execute_result"
    }
   ],
   "source": [
    "-5&-3"
   ]
  },
  {
   "cell_type": "code",
   "execution_count": 53,
   "id": "5ab4f891",
   "metadata": {},
   "outputs": [],
   "source": [
    "test: int = 1"
   ]
  },
  {
   "cell_type": "code",
   "execution_count": 64,
   "id": "15f75dd3",
   "metadata": {},
   "outputs": [
    {
     "data": {
      "text/plain": [
       "2147483647"
      ]
     },
     "execution_count": 64,
     "metadata": {},
     "output_type": "execute_result"
    }
   ],
   "source": [
    "(1 << 31) - 1"
   ]
  },
  {
   "cell_type": "code",
   "execution_count": 66,
   "id": "0f5d9c05",
   "metadata": {},
   "outputs": [
    {
     "data": {
      "text/plain": [
       "-1073741824"
      ]
     },
     "execution_count": 66,
     "metadata": {},
     "output_type": "execute_result"
    }
   ],
   "source": [
    "-2147483648 >> 1"
   ]
  }
 ],
 "metadata": {
  "kernelspec": {
   "display_name": "Python 3",
   "language": "python",
   "name": "python3"
  },
  "language_info": {
   "codemirror_mode": {
    "name": "ipython",
    "version": 3
   },
   "file_extension": ".py",
   "mimetype": "text/x-python",
   "name": "python",
   "nbconvert_exporter": "python",
   "pygments_lexer": "ipython3",
   "version": "3.10.12"
  }
 },
 "nbformat": 4,
 "nbformat_minor": 5
}
