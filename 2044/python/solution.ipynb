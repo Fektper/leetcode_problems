{
 "cells": [
  {
   "cell_type": "code",
   "execution_count": 1,
   "id": "41efbf0f",
   "metadata": {},
   "outputs": [],
   "source": [
    "from typing import List"
   ]
  },
  {
   "cell_type": "code",
   "execution_count": null,
   "id": "3ed63225",
   "metadata": {},
   "outputs": [],
   "source": [
    "\n",
    "MAX_BIT_DIGIT = 16 # floor log2(10^5)\n",
    "\n",
    "def get_or_set(elements, start = 0):\n",
    "    res = start\n",
    "    for x in elements:\n",
    "        res |= x\n",
    "\n",
    "    return res\n",
    "\n",
    "\n",
    "\n",
    "class Solution:\n",
    "    def countMaxOrSubsets(self, nums: List[int]) -> int:\n",
    "\n",
    "        max_possible_value = get_or_set(nums)\n",
    "        \n",
    "        candidate_nums = [x for x in nums if x & max_possible_value]\n",
    "        \n",
    "        fixed_nums = []\n",
    "        for i in range(len(candidate_nums)):\n",
    "            for digit in range(0, MAX_BIT_DIGIT):\n",
    "                all_unique = True\n",
    "                digit_num = 1 << digit\n",
    "\n",
    "                if not candidate_nums[i] & digit_num:\n",
    "                    continue\n",
    "\n",
    "                for j in range(len(candidate_nums)):\n",
    "                    if i == j:\n",
    "                        continue\n",
    "                    \n",
    "                    if (candidate_nums[i] & candidate_nums[j]) & digit_num:\n",
    "                        all_unique = False\n",
    "\n",
    "\n",
    "                if all_unique:\n",
    "                    fixed_nums.append(candidate_nums[i])\n",
    "                    break\n",
    "\n",
    "        print(fixed_nums)\n",
    "        potential_nums = [x for x in candidate_nums if not x in fixed_nums]\n",
    "        set_num = 0\n",
    "        for i in range(0 if len(fixed_nums) >= 1 else 1, 1<<len(potential_nums)):\n",
    "            num_indices = []\n",
    "            for num_index in range(len(potential_nums)):\n",
    "                if i & (1<<num_index):\n",
    "                    num_indices.append(num_index)\n",
    "\n",
    "            total_or_value = get_or_set([potential_nums[idx] for idx in num_indices])\n",
    "\n",
    "            total_or_value = get_or_set(fixed_nums, total_or_value)\n",
    "\n",
    "            if total_or_value == max_possible_value:\n",
    "                set_num += 1\n",
    "\n",
    "        return set_num"
   ]
  },
  {
   "cell_type": "code",
   "execution_count": 111,
   "id": "f99ea1c3",
   "metadata": {},
   "outputs": [
    {
     "name": "stdout",
     "output_type": "stream",
     "text": [
      "[]\n"
     ]
    },
    {
     "data": {
      "text/plain": [
       "487121"
      ]
     },
     "execution_count": 111,
     "metadata": {},
     "output_type": "execute_result"
    }
   ],
   "source": [
    "Solution().countMaxOrSubsets([1, 2, 3, 4, 5, 6, 7, 8, 9, 10, 11, 12, 13, 14, 15, 16, 17, 18, 19])"
   ]
  },
  {
   "cell_type": "code",
   "execution_count": 112,
   "id": "e381b36d",
   "metadata": {},
   "outputs": [],
   "source": [
    "from time import time\n",
    "class TestCase:\n",
    "    def __init__(self, inpt, out):\n",
    "        self.inpt = inpt\n",
    "        self.out = out\n",
    "        self.time_elapsed = None\n",
    "\n",
    "    def run(self):\n",
    "        start_time = time()\n",
    "        sol_out = Solution().countMaxOrSubsets(self.inpt)\n",
    "        self.time_elapsed = time() - start_time\n",
    "        return sol_out == self.out"
   ]
  },
  {
   "cell_type": "code",
   "execution_count": 113,
   "id": "e1db99fa",
   "metadata": {},
   "outputs": [
    {
     "name": "stdout",
     "output_type": "stream",
     "text": [
      "[3]\n",
      "Case 1 passed in 0.0001 secs\n",
      "[]\n",
      "Case 2 passed in 0.0001 secs\n",
      "[5]\n",
      "Case 3 passed in 0.0001 secs\n",
      "[16]\n",
      "Case 4 passed in 0.1278 secs\n",
      "[]\n",
      "Case 5 passed in 1.9481 secs\n"
     ]
    }
   ],
   "source": [
    "from time import time\n",
    "testcases = [TestCase([3, 1], 2), TestCase([2, 2, 2], 7), TestCase([3, 2, 1, 5], 6), \n",
    "             TestCase([1, 2, 3, 4, 5, 6, 7, 8, 9, 10, 11, 12, 13, 14, 15, 16], 32297),\n",
    "             TestCase([1, 2, 3, 4, 5, 6, 7, 8, 9, 10, 11, 12, 13, 14, 15, 16, 17, 18, 19], 487121)]\n",
    "\n",
    "for i, case in enumerate(testcases):\n",
    "    if case.run():\n",
    "        print(f\"Case {i+1} passed in {case.time_elapsed:.4f} secs\")\n",
    "    else:\n",
    "        print(f\"Case {i+1} failed\")"
   ]
  },
  {
   "cell_type": "code",
   "execution_count": 105,
   "id": "75a1afe5",
   "metadata": {},
   "outputs": [
    {
     "name": "stdout",
     "output_type": "stream",
     "text": [
      "Match\n"
     ]
    }
   ],
   "source": [
    "x = -5\n",
    "max_possible_value = -3\n",
    "if x & max_possible_value:\n",
    "    print(\"Match\")"
   ]
  },
  {
   "cell_type": "code",
   "execution_count": 106,
   "id": "0471a044",
   "metadata": {},
   "outputs": [
    {
     "data": {
      "text/plain": [
       "-7"
      ]
     },
     "execution_count": 106,
     "metadata": {},
     "output_type": "execute_result"
    }
   ],
   "source": [
    "-5&-3"
   ]
  },
  {
   "cell_type": "code",
   "execution_count": 107,
   "id": "5ab4f891",
   "metadata": {},
   "outputs": [],
   "source": [
    "test: int = 1"
   ]
  },
  {
   "cell_type": "code",
   "execution_count": 108,
   "id": "15f75dd3",
   "metadata": {},
   "outputs": [
    {
     "data": {
      "text/plain": [
       "2147483647"
      ]
     },
     "execution_count": 108,
     "metadata": {},
     "output_type": "execute_result"
    }
   ],
   "source": [
    "(1 << 31) - 1"
   ]
  },
  {
   "cell_type": "code",
   "execution_count": 109,
   "id": "0f5d9c05",
   "metadata": {},
   "outputs": [
    {
     "data": {
      "text/plain": [
       "-1073741824"
      ]
     },
     "execution_count": 109,
     "metadata": {},
     "output_type": "execute_result"
    }
   ],
   "source": [
    "-2147483648 >> 1"
   ]
  }
 ],
 "metadata": {
  "kernelspec": {
   "display_name": "Python 3",
   "language": "python",
   "name": "python3"
  },
  "language_info": {
   "codemirror_mode": {
    "name": "ipython",
    "version": 3
   },
   "file_extension": ".py",
   "mimetype": "text/x-python",
   "name": "python",
   "nbconvert_exporter": "python",
   "pygments_lexer": "ipython3",
   "version": "3.10.12"
  }
 },
 "nbformat": 4,
 "nbformat_minor": 5
}
