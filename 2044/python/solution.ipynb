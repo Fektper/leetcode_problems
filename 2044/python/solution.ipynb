{
 "cells": [
  {
   "cell_type": "code",
   "execution_count": 2,
   "id": "41efbf0f",
   "metadata": {},
   "outputs": [],
   "source": [
    "from typing import List"
   ]
  },
  {
   "cell_type": "code",
   "execution_count": 3,
   "id": "3ed63225",
   "metadata": {},
   "outputs": [],
   "source": [
    "\n",
    "MAX_BIT_DIGIT = 16 # floor log2(10^5)\n",
    "\n",
    "def get_or_set(elements, start = 0):\n",
    "    res = start\n",
    "    for x in elements:\n",
    "        res |= x\n",
    "\n",
    "    return res\n",
    "\n",
    "def this_index_necessary(target, idx, nums):\n",
    "    total_or_val = 0\n",
    "    for i in range(len(nums)):\n",
    "        if i == idx:\n",
    "            continue\n",
    "        total_or_val |= nums[i]\n",
    "\n",
    "    return not total_or_val == target\n",
    "def number_necessary(target, num, others):\n",
    "    return not get_or_set(others) == num\n",
    "\n",
    "class Solution:\n",
    "    def countMaxOrSubsets(self, nums: List[int]) -> int:\n",
    "\n",
    "        max_possible_value = get_or_set(nums)\n",
    "        \n",
    "        candidate_nums = [x for x in nums if x & max_possible_value]\n",
    "        \n",
    "\n",
    "        fixed_nums_indices = [i for i in range(len(candidate_nums)) if this_index_necessary(max_possible_value, i, candidate_nums)]\n",
    "\n",
    "        potential_nums_indices = [i for i in range(len(candidate_nums)) if not i in fixed_nums_indices]\n",
    "\n",
    "        set_num = 0\n",
    "        for i in range(0 if len(fixed_nums_indices) >= 1 else 1, 1<<len(potential_nums_indices)):\n",
    "            num_indices = []\n",
    "            for num_index in range(len(potential_nums_indices)):\n",
    "                if i & (1<<num_index):\n",
    "                    num_indices.append(potential_nums_indices[num_index])\n",
    "\n",
    "            total_or_value = get_or_set([candidate_nums[idx] for idx in num_indices])\n",
    "\n",
    "            total_or_value = get_or_set([candidate_nums[i] for i in fixed_nums_indices], total_or_value)\n",
    "\n",
    "            if total_or_value == max_possible_value:\n",
    "                set_num += 1\n",
    "\n",
    "        return set_num"
   ]
  },
  {
   "cell_type": "code",
   "execution_count": 4,
   "id": "f99ea1c3",
   "metadata": {},
   "outputs": [
    {
     "data": {
      "text/plain": [
       "487121"
      ]
     },
     "execution_count": 4,
     "metadata": {},
     "output_type": "execute_result"
    }
   ],
   "source": [
    "Solution().countMaxOrSubsets([1, 2, 3, 4, 5, 6, 7, 8, 9, 10, 11, 12, 13, 14, 15, 16, 17, 18, 19])"
   ]
  },
  {
   "cell_type": "code",
   "execution_count": 5,
   "id": "e381b36d",
   "metadata": {},
   "outputs": [],
   "source": [
    "from time import time\n",
    "class TestCase:\n",
    "    def __init__(self, inpt, out):\n",
    "        self.inpt = inpt\n",
    "        self.out = out\n",
    "        self.time_elapsed = None\n",
    "\n",
    "    def run(self):\n",
    "        start_time = time()\n",
    "        sol_out = Solution().countMaxOrSubsets(self.inpt)\n",
    "        self.time_elapsed = time() - start_time\n",
    "        return sol_out == self.out"
   ]
  },
  {
   "cell_type": "code",
   "execution_count": 6,
   "id": "e1db99fa",
   "metadata": {},
   "outputs": [
    {
     "name": "stdout",
     "output_type": "stream",
     "text": [
      "Case 1 passed in 0.0000 secs\n",
      "Case 2 passed in 0.0001 secs\n",
      "Case 3 passed in 0.0001 secs\n",
      "Case 4 passed in 0.1354 secs\n",
      "Case 5 passed in 2.1587 secs\n"
     ]
    }
   ],
   "source": [
    "from time import time\n",
    "testcases = [TestCase([3, 1], 2), TestCase([2, 2, 2], 7), TestCase([3, 2, 1, 5], 6), \n",
    "             TestCase([1, 2, 3, 4, 5, 6, 7, 8, 9, 10, 11, 12, 13, 14, 15, 16], 32297),\n",
    "             TestCase([1, 2, 3, 4, 5, 6, 7, 8, 9, 10, 11, 12, 13, 14, 15, 16, 17, 18, 19], 487121)]\n",
    "\n",
    "for i, case in enumerate(testcases):\n",
    "    if case.run():\n",
    "        print(f\"Case {i+1} passed in {case.time_elapsed:.4f} secs\")\n",
    "    else:\n",
    "        print(f\"Case {i+1} failed\")"
   ]
  }
 ],
 "metadata": {
  "kernelspec": {
   "display_name": "Python 3",
   "language": "python",
   "name": "python3"
  },
  "language_info": {
   "codemirror_mode": {
    "name": "ipython",
    "version": 3
   },
   "file_extension": ".py",
   "mimetype": "text/x-python",
   "name": "python",
   "nbconvert_exporter": "python",
   "pygments_lexer": "ipython3",
   "version": "3.10.12"
  }
 },
 "nbformat": 4,
 "nbformat_minor": 5
}
